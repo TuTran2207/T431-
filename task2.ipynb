{
 "cells": [
  {
   "cell_type": "code",
   "execution_count": null,
   "id": "7fc38f1f-0db7-40ad-8ec9-3421df80ab2b",
   "metadata": {},
   "outputs": [],
   "source": [
    "url = input(\"Enter url of a medium article: \")"
   ]
  },
  {
   "cell_type": "code",
   "execution_count": null,
   "id": "d42332ff-cc94-495d-88ad-9671bf57a2be",
   "metadata": {},
   "outputs": [],
   "source": [
    "res = requests.get(url)"
   ]
  },
  {
   "cell_type": "code",
   "execution_count": null,
   "id": "c8896d18-8a7d-492f-bd68-7458167d18fe",
   "metadata": {},
   "outputs": [],
   "source": [
    "with open(fname , \"w\") as file:\n",
    "         file.write(str(text))"
   ]
  }
 ],
 "metadata": {
  "kernelspec": {
   "display_name": "Python 3 (ipykernel)",
   "language": "python",
   "name": "python3"
  },
  "language_info": {
   "codemirror_mode": {
    "name": "ipython",
    "version": 3
   },
   "file_extension": ".py",
   "mimetype": "text/x-python",
   "name": "python",
   "nbconvert_exporter": "python",
   "pygments_lexer": "ipython3",
   "version": "3.11.5"
  },
  "toc-autonumbering": true
 },
 "nbformat": 4,
 "nbformat_minor": 5
}
